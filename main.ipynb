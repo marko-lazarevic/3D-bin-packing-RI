{
 "cells": [
  {
   "cell_type": "markdown",
   "id": "70ff40fd-9d53-4126-b679-d50051ac66a9",
   "metadata": {},
   "source": [
    "# 3D Bin packing\n",
    "\n",
    "Given the array of the 3d boxes (blocks) and the bin size (width, height and depth) find the minimum number of bins to fit all the given boxes."
   ]
  },
  {
   "attachments": {
    "1d1880e7-13c7-47bf-9173-8c23eb1d7b80.png": {
     "image/png": "[encoded data removed]"
    }
   },
   "cell_type": "markdown",
   "id": "f74f9538-2b23-4b80-8b92-91dfc4b8dcbd",
   "metadata": {},
   "source": [
    "![image.png](attachment:1d1880e7-13c7-47bf-9173-8c23eb1d7b80.png)"
   ]
  },
  {
   "cell_type": "code",
   "execution_count": 12,
   "id": "f075855f",
   "metadata": {},
   "outputs": [],
   "source": [
    "from itertools import permutations"
   ]
  },
  {
   "cell_type": "code",
   "execution_count": 2,
   "id": "10cec2aa-1548-4ef2-a8f7-142218384539",
   "metadata": {},
   "outputs": [],
   "source": [
    "class Box:\n",
    "    def __init__(self, w:int, d:int, h:int):\n",
    "        self.width = w\n",
    "        self.depth = d\n",
    "        self.height = h\n",
    "        self.position = None\n",
    "        \n",
    "    def __repr__(self):\n",
    "        return f\"Box(w={self.width}, d={self.depth}, h={self.height}, pos={self.position})\""
   ]
  },
  {
   "cell_type": "code",
   "execution_count": 3,
   "id": "86207225-747f-4e4b-aede-7834e0e02c0c",
   "metadata": {},
   "outputs": [
    {
     "data": {
      "text/plain": [
       "Box(w=2, d=3, h=5, pos=None)"
      ]
     },
     "execution_count": 3,
     "metadata": {},
     "output_type": "execute_result"
    }
   ],
   "source": [
    "b = Box(2,3,5)\n",
    "b"
   ]
  },
  {
   "cell_type": "code",
   "execution_count": null,
   "id": "7d42d4db-1793-48b9-9963-9ee05fde47fa",
   "metadata": {},
   "outputs": [],
   "source": [
    "class Bin:\n",
    "    def __init__(self, w: int, d: int, h: int):\n",
    "        self.width = w\n",
    "        self.depth = d\n",
    "        self.height = h\n",
    "        self.boxes = []  # List of boxes in the bin\n",
    "        self.top_surface = [[0] * d for _ in range(w)]  # Tracks the height at each (x, y) position\n",
    "\n",
    "    def can_fit(self, b: Box, x: int, y: int, z: int) -> bool:\n",
    "        \"\"\"\n",
    "        Check if the box can fit at position (x, y, z) without overlapping others,\n",
    "        staying within the bin's dimensions, and being properly supported.\n",
    "        \"\"\"\n",
    "        # Check if the box fits within the bin boundaries\n",
    "        if x + b.width > self.width or y + b.depth > self.depth or z + b.height > self.height:\n",
    "            return False\n",
    "\n",
    "        # Check for overlap with existing boxes\n",
    "        for placed_box in self.boxes:\n",
    "            px, py, pz = placed_box.position\n",
    "            if not (\n",
    "                x + b.width <= px or px + placed_box.width <= x or\n",
    "                y + b.depth <= py or py + placed_box.depth <= y or\n",
    "                z + b.height <= pz or pz + placed_box.height <= z\n",
    "            ):\n",
    "                return False\n",
    "\n",
    "        # Check if the box is supported (must rest on the bottom or another box)\n",
    "        for dx in range(b.width):\n",
    "            for dy in range(b.depth):\n",
    "                if z > self.top_surface[x + dx][y + dy]:\n",
    "                    return False\n",
    "\n",
    "        return True\n",
    "\n",
    "    def add_box(self, b: Box) -> bool:\n",
    "        \"\"\"\n",
    "        Try to place the box in the bin. If successful, assign its position and return True.\n",
    "        Otherwise, return False.\n",
    "        \"\"\"\n",
    "        # TODO fix this\n",
    "        for x in range(0, self.width - b.width + 1):\n",
    "            for y in range(0, self.depth - b.depth + 1):\n",
    "                z = max(self.top_surface[x + dx][y + dy] for dx in range(b.width) for dy in range(b.depth))\n",
    "                if self.can_fit(b, x, y, z):\n",
    "                    b.position = (x, y, z)\n",
    "                    self.boxes.append(b)\n",
    "\n",
    "                    # Update the top surface\n",
    "                    for dx in range(b.width):\n",
    "                        for dy in range(b.depth):\n",
    "                            self.top_surface[x + dx][y + dy] = z + b.height\n",
    "                    return True\n",
    "\n",
    "        return False\n",
    "\n",
    "    def __repr__(self):\n",
    "        return f\"Bin(w={self.width}, d={self.depth}, h={self.height}, boxes={self.boxes})\"\n"
   ]
  },
  {
   "cell_type": "code",
   "execution_count": 21,
   "id": "5778b07c-e395-4517-9b05-7563a6917f25",
   "metadata": {},
   "outputs": [],
   "source": [
    "def pack_boxes_into_bins(boxes, bin_size):\n",
    "    \"\"\"\n",
    "    Put all boxes in bins in the given order.\n",
    "    \"\"\"\n",
    "    bins = []\n",
    "    for box in boxes:\n",
    "        # Try to place the box in an existing bin\n",
    "        placed = False\n",
    "        for bin in bins:\n",
    "            if bin.add_box(box):\n",
    "                placed = True\n",
    "                break\n",
    "        # If the box doesn't fit in any existing bin, create a new bin\n",
    "        if not placed:\n",
    "            new_bin = Bin(*bin_size)\n",
    "            new_bin.add_box(box)\n",
    "            bins.append(new_bin)\n",
    "    return bins"
   ]
  },
  {
   "cell_type": "code",
   "execution_count": 22,
   "id": "2517b2c2",
   "metadata": {},
   "outputs": [],
   "source": [
    "def brute_force(boxes, bin_size):\n",
    "    best_solution = None\n",
    "    for p in permutations(boxes):\n",
    "        sol = pack_boxes_into_bins(boxes,bin_size)\n",
    "        if best_solution is None or len(sol) < len(best_solution):\n",
    "            best_solution = sol \n",
    "    return sol"
   ]
  },
  {
   "cell_type": "code",
   "execution_count": 27,
   "id": "d0cc8465",
   "metadata": {},
   "outputs": [
    {
     "name": "stdout",
     "output_type": "stream",
     "text": [
      "Number of bins used: 2\n",
      "Bin 1: Bin(w=3, d=3, h=3, boxes=[Box(w=1, d=1, h=1, pos=(0, 0, 0)), Box(w=1, d=1, h=1, pos=(0, 0, 1)), Box(w=1, d=1, h=1, pos=(0, 0, 2))])\n",
      "Bin 2: Bin(w=3, d=3, h=3, boxes=[Box(w=3, d=3, h=1, pos=(0, 0, 0)), Box(w=3, d=3, h=1, pos=(0, 0, 1))])\n"
     ]
    }
   ],
   "source": [
    "boxes = [\n",
    "    Box(1, 1, 1),\n",
    "    Box(1, 1, 1),\n",
    "    Box(1, 1, 1),\n",
    "    Box(3, 3, 1),\n",
    "    Box(3, 3, 1),\n",
    "]\n",
    "\n",
    "bin_size = (3, 3, 3)\n",
    "bins = brute_force(boxes, bin_size)\n",
    "\n",
    "print(f\"Number of bins used: {len(bins)}\")\n",
    "for i, bin in enumerate(bins, 1):\n",
    "    print(f\"Bin {i}: {bin}\")\n",
    "\n"
   ]
  },
  {
   "cell_type": "code",
   "execution_count": null,
   "id": "c1d0284a",
   "metadata": {},
   "outputs": [],
   "source": []
  },
  {
   "cell_type": "code",
   "execution_count": null,
   "id": "e0618a7c",
   "metadata": {},
   "outputs": [],
   "source": []
  }
 ],
 "metadata": {
  "kernelspec": {
   "display_name": "Python 3",
   "language": "python",
   "name": "python3"
  },
  "language_info": {
   "codemirror_mode": {
    "name": "ipython",
    "version": 3
   },
   "file_extension": ".py",
   "mimetype": "text/x-python",
   "name": "python",
   "nbconvert_exporter": "python",
   "pygments_lexer": "ipython3",
   "version": "3.10.12"
  }
 },
 "nbformat": 4,
 "nbformat_minor": 5
}
